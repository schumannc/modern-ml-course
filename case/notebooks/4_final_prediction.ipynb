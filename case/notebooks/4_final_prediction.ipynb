{
 "cells": [
  {
   "cell_type": "code",
   "execution_count": 1,
   "metadata": {},
   "outputs": [
    {
     "data": {
      "text/plain": [
       "'/Users/henriquecosta/workspace/studies/modern-ml'"
      ]
     },
     "execution_count": 1,
     "metadata": {},
     "output_type": "execute_result"
    }
   ],
   "source": [
    "import os\n",
    "os.chdir('../../')\n",
    "os.getcwd()"
   ]
  },
  {
   "cell_type": "code",
   "execution_count": 24,
   "metadata": {},
   "outputs": [],
   "source": [
    "import pandas as pd\n",
    "import numpy as np\n",
    "import catboost as cb\n",
    "from sklearn.metrics import log_loss, average_precision_score\n",
    "from sklearn.model_selection import train_test_split\n",
    "from venn_abers import VennAbersCalibrator\n",
    "from matplotlib import pyplot as plt\n",
    "import seaborn as sns\n",
    "import mlflow"
   ]
  },
  {
   "cell_type": "code",
   "execution_count": 3,
   "metadata": {},
   "outputs": [
    {
     "name": "stderr",
     "output_type": "stream",
     "text": [
      "2025/02/02 20:14:56 INFO mlflow.tracking.fluent: Experiment with name 'final_model' does not exist. Creating a new experiment.\n"
     ]
    },
    {
     "data": {
      "text/plain": [
       "<Experiment: artifact_location='file:///Users/henriquecosta/workspace/studies/modern-ml/mlruns/614710356249417379', creation_time=1738538096390, experiment_id='614710356249417379', last_update_time=1738538096390, lifecycle_stage='active', name='final_model', tags={}>"
      ]
     },
     "execution_count": 3,
     "metadata": {},
     "output_type": "execute_result"
    }
   ],
   "source": [
    "mlflow.set_experiment('final_model')"
   ]
  },
  {
   "cell_type": "code",
   "execution_count": 4,
   "metadata": {},
   "outputs": [],
   "source": [
    "df_train = pd.read_parquet('./case/data/processed/lending_club_case_train_dataset_v2.parquet')\n",
    "df_valid = pd.read_parquet('./case/data/processed/lending_club_case_valid_dataset_v2.parquet')\n",
    "df_test  = pd.read_parquet('./case/data/processed/lending_club_case_test_dataset_v2.parquet')"
   ]
  },
  {
   "cell_type": "code",
   "execution_count": 5,
   "metadata": {},
   "outputs": [],
   "source": [
    "FEATURES = [\n",
    "    'loan_amnt',\n",
    "    'term',\n",
    "    'int_rate',\n",
    "    'installment',\n",
    "    'annual_inc',\n",
    "    'dti',\n",
    "    'fico_range_low',\n",
    "    'inq_last_6mths',\n",
    "    'mths_since_last_delinq',\n",
    "    'revol_bal',\n",
    "    'total_rev_hi_lim',\n",
    "    'acc_open_past_24mths',\n",
    "    'bc_open_to_buy',\n",
    "    'bc_util',\n",
    "    'mo_sin_old_il_acct',\n",
    "    'mo_sin_old_rev_tl_op',\n",
    "    'mo_sin_rcnt_rev_tl_op',\n",
    "    'mo_sin_rcnt_tl',\n",
    "    'mort_acc',\n",
    "    'mths_since_recent_bc',\n",
    "    'mths_since_recent_inq',\n",
    "    'num_bc_tl',\n",
    "    'num_il_tl',\n",
    "    'num_rev_tl_bal_gt_0',\n",
    "    'percent_bc_gt_75',\n",
    "    'tot_hi_cred_lim',\n",
    "    'total_bc_limit',\n",
    "    'total_il_high_credit_limit',\n",
    "    'issue_d_elapse',\n",
    "    'earliest_cr_line_since',\n",
    "    'grade',\n",
    "    'sub_grade',\n",
    "    'emp_length',\n",
    "    'home_ownership',\n",
    "    'verification_status',\n",
    "    'pymnt_plan',\n",
    "    'purpose',\n",
    "    'title',\n",
    "    'zip_code',\n",
    "    'addr_state',\n",
    "    'initial_list_status',\n",
    "    'application_type',\n",
    "    'verification_status_joint',\n",
    "    'issue_d_month',\n",
    "    'issue_d_day',\n",
    "    'issue_d_dayofweek',\n",
    "    'issue_d_dayofyear',\n",
    "    'issue_d_quarter',\n",
    "    'earliest_cr_line_month',\n",
    "    'earliest_cr_line_day',\n",
    "    'earliest_cr_line_dayofweek',\n",
    "    'earliest_cr_line_dayofyear',\n",
    "    'earliest_cr_line_quarter',\n",
    "    'sec_app_earliest_cr_line_month',\n",
    "    'sec_app_earliest_cr_line_day',\n",
    "    'sec_app_earliest_cr_line_dayofweek',\n",
    "    'sec_app_earliest_cr_line_dayofyear',\n",
    "    'sec_app_earliest_cr_line_quarter'\n",
    "]\n",
    "\n",
    "CATEGORICAL_FEATURES = [c for c in df_train.select_dtypes(include='category').columns if c in FEATURES]"
   ]
  },
  {
   "cell_type": "code",
   "execution_count": 6,
   "metadata": {},
   "outputs": [],
   "source": [
    "X_train = df_train[FEATURES]\n",
    "y_train = df_train['default']\n",
    "\n",
    "X_valid = df_valid[FEATURES]\n",
    "y_valid = df_valid['default']\n",
    "\n",
    "X_test = df_test[FEATURES]"
   ]
  },
  {
   "cell_type": "code",
   "execution_count": 7,
   "metadata": {},
   "outputs": [],
   "source": [
    "X_valid, X_calibration, y_valid, y_calibration = train_test_split(X_valid, y_valid, test_size=.2, random_state=42)"
   ]
  },
  {
   "cell_type": "code",
   "execution_count": 8,
   "metadata": {},
   "outputs": [],
   "source": [
    "train_pool  = cb.Pool(X_train, y_train, cat_features=CATEGORICAL_FEATURES)\n",
    "valid_pool = cb.Pool(X_valid, y_valid, cat_features=CATEGORICAL_FEATURES)"
   ]
  },
  {
   "cell_type": "code",
   "execution_count": 9,
   "metadata": {},
   "outputs": [
    {
     "name": "stderr",
     "output_type": "stream",
     "text": [
      "python(60272) MallocStackLogging: can't turn off malloc stack logging because it was not enabled.\n",
      "python(60273) MallocStackLogging: can't turn off malloc stack logging because it was not enabled.\n",
      "python(60274) MallocStackLogging: can't turn off malloc stack logging because it was not enabled.\n",
      "python(60275) MallocStackLogging: can't turn off malloc stack logging because it was not enabled.\n"
     ]
    },
    {
     "name": "stdout",
     "output_type": "stream",
     "text": [
      "0:\tlearn: 0.6689975\ttest: 0.6743545\tbest: 0.6743545 (0)\ttotal: 5.88s\tremaining: 8h 9m 39s\n",
      "10:\tlearn: 0.5801940\ttest: 0.6142167\tbest: 0.6142167 (10)\ttotal: 31.7s\tremaining: 3h 59m 51s\n",
      "20:\tlearn: 0.5664953\ttest: 0.6103368\tbest: 0.6103368 (20)\ttotal: 2m 15s\tremaining: 8h 56m 25s\n",
      "30:\tlearn: 0.5621825\ttest: 0.6094678\tbest: 0.6094678 (30)\ttotal: 2m 52s\tremaining: 7h 41m 42s\n",
      "40:\tlearn: 0.5600689\ttest: 0.6084507\tbest: 0.6084507 (40)\ttotal: 4m 48s\tremaining: 9h 40m 39s\n",
      "50:\tlearn: 0.5587043\ttest: 0.6074108\tbest: 0.6074108 (50)\ttotal: 5m 55s\tremaining: 9h 35m 16s\n",
      "60:\tlearn: 0.5577833\ttest: 0.6064840\tbest: 0.6064840 (60)\ttotal: 6m 21s\tremaining: 8h 35m 1s\n",
      "70:\tlearn: 0.5569825\ttest: 0.6062517\tbest: 0.6062467 (66)\ttotal: 6m 43s\tremaining: 7h 47m 7s\n",
      "80:\tlearn: 0.5562837\ttest: 0.6057267\tbest: 0.6057267 (80)\ttotal: 7m 5s\tremaining: 7h 10m 31s\n",
      "90:\tlearn: 0.5556178\ttest: 0.6045309\tbest: 0.6045309 (90)\ttotal: 7m 29s\tremaining: 6h 44m 4s\n",
      "100:\tlearn: 0.5550448\ttest: 0.6038982\tbest: 0.6037995 (98)\ttotal: 7m 56s\tremaining: 6h 24m 52s\n",
      "110:\tlearn: 0.5545470\ttest: 0.6036693\tbest: 0.6036693 (110)\ttotal: 8m 18s\tremaining: 6h 5m 59s\n",
      "120:\tlearn: 0.5540776\ttest: 0.6029779\tbest: 0.6029611 (119)\ttotal: 8m 46s\tremaining: 5h 54m 6s\n",
      "130:\tlearn: 0.5536265\ttest: 0.6024583\tbest: 0.6024583 (130)\ttotal: 9m 35s\tremaining: 5h 56m 13s\n",
      "140:\tlearn: 0.5531214\ttest: 0.6021200\tbest: 0.6021200 (140)\ttotal: 10m\tremaining: 5h 44m 57s\n",
      "150:\tlearn: 0.5526440\ttest: 0.6015574\tbest: 0.6015574 (150)\ttotal: 10m 22s\tremaining: 5h 32m 58s\n",
      "160:\tlearn: 0.5521994\ttest: 0.6010717\tbest: 0.6010717 (160)\ttotal: 10m 44s\tremaining: 5h 22m 40s\n",
      "170:\tlearn: 0.5517341\ttest: 0.6000220\tbest: 0.6000220 (170)\ttotal: 11m 5s\tremaining: 5h 13m 23s\n",
      "180:\tlearn: 0.5512749\ttest: 0.5995299\tbest: 0.5995299 (180)\ttotal: 11m 30s\tremaining: 5h 6m 26s\n",
      "190:\tlearn: 0.5507737\ttest: 0.5993695\tbest: 0.5993401 (188)\ttotal: 11m 55s\tremaining: 5h 18s\n",
      "200:\tlearn: 0.5503099\ttest: 0.5992037\tbest: 0.5991999 (197)\ttotal: 12m 15s\tremaining: 4h 52m 44s\n",
      "210:\tlearn: 0.5498972\ttest: 0.5988949\tbest: 0.5988949 (210)\ttotal: 12m 33s\tremaining: 4h 45m 11s\n",
      "220:\tlearn: 0.5494714\ttest: 0.5985389\tbest: 0.5985389 (220)\ttotal: 12m 52s\tremaining: 4h 38m 23s\n",
      "230:\tlearn: 0.5490846\ttest: 0.5984089\tbest: 0.5984062 (229)\ttotal: 13m 10s\tremaining: 4h 32m 9s\n",
      "240:\tlearn: 0.5486930\ttest: 0.5983136\tbest: 0.5982783 (237)\ttotal: 13m 35s\tremaining: 4h 28m 15s\n",
      "250:\tlearn: 0.5483126\ttest: 0.5981688\tbest: 0.5981688 (250)\ttotal: 14m 14s\tremaining: 4h 30m 30s\n",
      "260:\tlearn: 0.5479541\ttest: 0.5980581\tbest: 0.5980581 (260)\ttotal: 15m 15s\tremaining: 4h 37m 58s\n",
      "270:\tlearn: 0.5476028\ttest: 0.5978162\tbest: 0.5978081 (268)\ttotal: 16m 10s\tremaining: 4h 43m 13s\n",
      "280:\tlearn: 0.5472507\ttest: 0.5977307\tbest: 0.5977307 (280)\ttotal: 16m 58s\tremaining: 4h 46m 7s\n",
      "290:\tlearn: 0.5469220\ttest: 0.5975215\tbest: 0.5975164 (289)\ttotal: 17m 43s\tremaining: 4h 47m 47s\n",
      "300:\tlearn: 0.5465760\ttest: 0.5974817\tbest: 0.5974767 (299)\ttotal: 18m 31s\tremaining: 4h 50m 2s\n",
      "310:\tlearn: 0.5462505\ttest: 0.5974215\tbest: 0.5974215 (310)\ttotal: 19m 16s\tremaining: 4h 51m 33s\n",
      "320:\tlearn: 0.5459643\ttest: 0.5973299\tbest: 0.5973270 (315)\ttotal: 20m 2s\tremaining: 4h 53m 9s\n",
      "330:\tlearn: 0.5456882\ttest: 0.5973220\tbest: 0.5972578 (328)\ttotal: 20m 51s\tremaining: 4h 55m 8s\n",
      "340:\tlearn: 0.5453903\ttest: 0.5972743\tbest: 0.5972578 (328)\ttotal: 21m 34s\tremaining: 4h 56m 24s\n",
      "350:\tlearn: 0.5450499\ttest: 0.5971101\tbest: 0.5971003 (348)\ttotal: 22m 2s\tremaining: 4h 54m 24s\n",
      "360:\tlearn: 0.5447851\ttest: 0.5968239\tbest: 0.5968239 (360)\ttotal: 22m 52s\tremaining: 4h 56m 25s\n",
      "370:\tlearn: 0.5444834\ttest: 0.5967036\tbest: 0.5966963 (369)\ttotal: 23m 41s\tremaining: 4h 57m 54s\n",
      "380:\tlearn: 0.5441799\ttest: 0.5967715\tbest: 0.5966963 (369)\ttotal: 24m 28s\tremaining: 4h 58m 59s\n",
      "390:\tlearn: 0.5439508\ttest: 0.5967514\tbest: 0.5966963 (369)\ttotal: 25m 17s\tremaining: 5h 22s\n",
      "400:\tlearn: 0.5437006\ttest: 0.5967846\tbest: 0.5966963 (369)\ttotal: 26m 10s\tremaining: 5h 2m 31s\n",
      "410:\tlearn: 0.5433842\ttest: 0.5966711\tbest: 0.5966711 (410)\ttotal: 26m 53s\tremaining: 5h 2m 24s\n",
      "420:\tlearn: 0.5430903\ttest: 0.5965351\tbest: 0.5965351 (420)\ttotal: 27m 42s\tremaining: 5h 3m 30s\n",
      "430:\tlearn: 0.5428236\ttest: 0.5965720\tbest: 0.5965233 (421)\ttotal: 28m 29s\tremaining: 5h 4m 5s\n",
      "440:\tlearn: 0.5425749\ttest: 0.5965419\tbest: 0.5965233 (421)\ttotal: 29m 18s\tremaining: 5h 5m 8s\n",
      "450:\tlearn: 0.5423004\ttest: 0.5965215\tbest: 0.5965215 (450)\ttotal: 30m 4s\tremaining: 5h 5m 21s\n",
      "460:\tlearn: 0.5420414\ttest: 0.5964867\tbest: 0.5964825 (459)\ttotal: 30m 57s\tremaining: 5h 6m 53s\n",
      "470:\tlearn: 0.5417914\ttest: 0.5986008\tbest: 0.5964322 (464)\ttotal: 31m 44s\tremaining: 5h 7m 12s\n",
      "480:\tlearn: 0.5415221\ttest: 0.5986140\tbest: 0.5964322 (464)\ttotal: 32m 31s\tremaining: 5h 7m 25s\n",
      "490:\tlearn: 0.5412716\ttest: 0.5985315\tbest: 0.5964322 (464)\ttotal: 33m 1s\tremaining: 5h 5m 45s\n",
      "500:\tlearn: 0.5409935\ttest: 0.5984194\tbest: 0.5964322 (464)\ttotal: 33m 34s\tremaining: 5h 4m 36s\n",
      "510:\tlearn: 0.5406951\ttest: 0.5983258\tbest: 0.5964322 (464)\ttotal: 34m 19s\tremaining: 5h 4m 28s\n",
      "520:\tlearn: 0.5404310\ttest: 0.5983418\tbest: 0.5964322 (464)\ttotal: 35m 8s\tremaining: 5h 4m 59s\n",
      "530:\tlearn: 0.5401702\ttest: 0.5983536\tbest: 0.5964322 (464)\ttotal: 35m 55s\tremaining: 5h 5m 12s\n",
      "540:\tlearn: 0.5399427\ttest: 0.5983583\tbest: 0.5964322 (464)\ttotal: 36m 40s\tremaining: 5h 5m 4s\n",
      "550:\tlearn: 0.5396729\ttest: 0.5979810\tbest: 0.5964322 (464)\ttotal: 37m 26s\tremaining: 5h 5m 7s\n",
      "560:\tlearn: 0.5394684\ttest: 0.5979623\tbest: 0.5964322 (464)\ttotal: 38m 12s\tremaining: 5h 5m 6s\n",
      "Stopped by overfitting detector  (100 iterations wait)\n",
      "\n",
      "bestTest = 0.5964322308\n",
      "bestIteration = 464\n",
      "\n",
      "Shrink model to first 465 iterations.\n"
     ]
    }
   ],
   "source": [
    "with mlflow.start_run(run_name='calibrated_model'):\n",
    "    params = dict(\n",
    "        iterations=5000,\n",
    "        colsample_bylevel=0.7,\n",
    "        depth=8,\n",
    "        l2_leaf_reg=2.0,\n",
    "        learning_rate=0.09476737092755798,\n",
    "        auto_class_weights='SqrtBalanced',\n",
    "        eval_metric='Logloss',\n",
    "        verbose=10,\n",
    "    )\n",
    "\n",
    "    model = cb.CatBoostClassifier(**params)\n",
    "    model.fit(train_pool, eval_set=valid_pool, early_stopping_rounds=100)\n",
    "    y_pred = model.predict_proba(X_valid)[:, 1]\n",
    "    mlflow.log_params(params)\n",
    "    mlflow.log_metric('log_loss_non_calibrated', log_loss(y_valid, y_pred))\n",
    "    mlflow.log_metric('avg_pr_non_calibrated', average_precision_score(y_valid, y_pred))\n",
    "\n",
    "    p_cal = model.predict_proba(X_calibration)\n",
    "    p_val = model.predict_proba(X_valid)\n",
    "    va = VennAbersCalibrator()\n",
    "    va_prefit_prob = va.predict_proba(p_cal=p_cal, y_cal=y_calibration.values, p_test=p_val)\n",
    "    y_pred_va = va_prefit_prob[:, 1]\n",
    "    mlflow.log_metric('log_loss', log_loss(y_valid, y_pred_va))\n",
    "    mlflow.log_metric('avg_pr', average_precision_score(y_valid, y_pred_va))"
   ]
  },
  {
   "cell_type": "code",
   "execution_count": 10,
   "metadata": {},
   "outputs": [],
   "source": [
    "p_test = model.predict_proba(X_test)\n",
    "va_prefit_prob = va.predict_proba(p_cal=p_cal, y_cal=y_calibration.values, p_test=p_test)\n",
    "y_submit_va = va_prefit_prob[:, 1]"
   ]
  },
  {
   "cell_type": "code",
   "execution_count": 13,
   "metadata": {},
   "outputs": [],
   "source": [
    "submission = df_test[['id']].copy()\n",
    "submission['probabilities'] = y_submit_va\n",
    "\n",
    "submission.to_csv('./case/data/submission/henrique_schumann.csv', index=False)"
   ]
  },
  {
   "cell_type": "code",
   "execution_count": 15,
   "metadata": {},
   "outputs": [
    {
     "name": "stdout",
     "output_type": "stream",
     "text": [
      "<class 'pandas.core.frame.DataFrame'>\n",
      "Index: 538826 entries, 472065 to 1082981\n",
      "Data columns (total 2 columns):\n",
      " #   Column   Non-Null Count   Dtype  \n",
      "---  ------   --------------   -----  \n",
      " 0   id       538826 non-null  Int64  \n",
      " 1   default  208329 non-null  float16\n",
      "dtypes: Int64(1), float16(1)\n",
      "memory usage: 9.8 MB\n"
     ]
    }
   ],
   "source": [
    "test_file = pd.read_parquet('./case/data/processed/test_dataset_with_target.parquet')[['id', 'default']]\n",
    "test_file.info()"
   ]
  },
  {
   "cell_type": "code",
   "execution_count": 16,
   "metadata": {},
   "outputs": [
    {
     "name": "stdout",
     "output_type": "stream",
     "text": [
      "<class 'pandas.core.frame.DataFrame'>\n",
      "RangeIndex: 538826 entries, 0 to 538825\n",
      "Data columns (total 3 columns):\n",
      " #   Column         Non-Null Count   Dtype  \n",
      "---  ------         --------------   -----  \n",
      " 0   id             538826 non-null  Int64  \n",
      " 1   default        208329 non-null  float16\n",
      " 2   probabilities  538826 non-null  float64\n",
      "dtypes: Int64(1), float16(1), float64(1)\n",
      "memory usage: 9.8 MB\n"
     ]
    }
   ],
   "source": [
    "test_file = test_file.merge(submission, on='id', how='inner')\n",
    "test_file.info()"
   ]
  },
  {
   "cell_type": "code",
   "execution_count": 17,
   "metadata": {},
   "outputs": [
    {
     "name": "stdout",
     "output_type": "stream",
     "text": [
      "Final Logloss: 0.48720282735720877\n"
     ]
    }
   ],
   "source": [
    "test_file = test_file.dropna()\n",
    "\n",
    "y_true = test_file['default']\n",
    "y_pred = test_file['probabilities']\n",
    "\n",
    "print('Final Logloss:', log_loss(y_true, y_pred))"
   ]
  },
  {
   "cell_type": "code",
   "execution_count": 22,
   "metadata": {},
   "outputs": [],
   "source": [
    "test_file['default'] = test_file['default'].astype(int)"
   ]
  },
  {
   "cell_type": "code",
   "execution_count": 26,
   "metadata": {},
   "outputs": [
    {
     "data": {
      "text/plain": [
       "<Axes: xlabel='default'>"
      ]
     },
     "execution_count": 26,
     "metadata": {},
     "output_type": "execute_result"
    },
    {
     "data": {
      "image/png": "[encoded data removed]",
      "text/plain": [
       "<Figure size 640x480 with 1 Axes>"
      ]
     },
     "metadata": {},
     "output_type": "display_data"
    }
   ],
   "source": [
    "test_file.groupby('default')['probabilities'].mean().plot.bar()"
   ]
  },
  {
   "cell_type": "code",
   "execution_count": 29,
   "metadata": {},
   "outputs": [
    {
     "data": {
      "text/plain": [
       "0.0"
      ]
     },
     "execution_count": 29,
     "metadata": {},
     "output_type": "execute_result"
    }
   ],
   "source": [
    "test_file['default'].isnull().mean()"
   ]
  },
  {
   "cell_type": "code",
   "execution_count": 25,
   "metadata": {},
   "outputs": [
    {
     "data": {
      "text/plain": [
       "<matplotlib.legend.Legend at 0x1396ed210>"
      ]
     },
     "execution_count": 25,
     "metadata": {},
     "output_type": "execute_result"
    },
    {
     "data": {
      "image/png": "[encoded data removed]",
      "text/plain": [
       "<Figure size 1000x600 with 1 Axes>"
      ]
     },
     "metadata": {},
     "output_type": "display_data"
    }
   ],
   "source": [
    "plt.figure(figsize=(10, 6))\n",
    "sns.histplot(test_file.loc[test_file['default'] == 1, 'probabilities'], bins=50, color='red', label='Churn', kde=True, stat='density')\n",
    "sns.histplot(test_file.loc[test_file['default'] == 0, 'probabilities'], bins=50, color='blue', label='Non-Churn', kde=True, stat='density')\n",
    "plt.xlabel('Predicted Probability')\n",
    "plt.ylabel('Frequency')\n",
    "plt.title('Distribution of Predicted Probabilities for Churn vs Non-Churn')\n",
    "plt.legend()"
   ]
  },
  {
   "cell_type": "code",
   "execution_count": null,
   "metadata": {},
   "outputs": [],
   "source": []
  }
 ],
 "metadata": {
  "kernelspec": {
   "display_name": ".venv",
   "language": "python",
   "name": "python3"
  },
  "language_info": {
   "codemirror_mode": {
    "name": "ipython",
    "version": 3
   },
   "file_extension": ".py",
   "mimetype": "text/x-python",
   "name": "python",
   "nbconvert_exporter": "python",
   "pygments_lexer": "ipython3",
   "version": "3.11.3"
  }
 },
 "nbformat": 4,
 "nbformat_minor": 2
}
