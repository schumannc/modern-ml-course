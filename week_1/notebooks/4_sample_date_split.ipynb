{
 "cells": [
  {
   "cell_type": "code",
   "execution_count": 1,
   "metadata": {},
   "outputs": [],
   "source": [
    "%load_ext autoreload\n",
    "%autoreload 2\n",
    "import os\n",
    "import gc\n",
    "\n",
    "os.chdir('../../')"
   ]
  },
  {
   "cell_type": "code",
   "execution_count": 2,
   "metadata": {},
   "outputs": [
    {
     "name": "stderr",
     "output_type": "stream",
     "text": [
      "/Users/marcus.silva/Code/modern-ml/.venv/lib/python3.11/site-packages/tqdm/auto.py:21: TqdmWarning: IProgress not found. Please update jupyter and ipywidgets. See https://ipywidgets.readthedocs.io/en/stable/user_install.html\n",
      "  from .autonotebook import tqdm as notebook_tqdm\n"
     ]
    }
   ],
   "source": [
    "import pandas as pd\n",
    "import numpy as np\n",
    "from catboost import CatBoostClassifier\n",
    "from sklearn.metrics import log_loss, roc_auc_score, average_precision_score, brier_score_loss, precision_recall_curve\n",
    "from sklearn.calibration import calibration_curve, CalibratedClassifierCV\n",
    "from sklearn.inspection import permutation_importance\n",
    "from sklearn.model_selection import train_test_split\n",
    "import matplotlib.pyplot as plt\n",
    "import seaborn as sns\n",
    "from global_code.util import reduce_mem_usage, clf_metric_report, compute_and_plot_permutation_importance, plot_pr_calib_curve, plot_dis_probs, plot_shap_values\n",
    "import optuna\n",
    "import arfs.feature_selection.allrelevant as arfsgroot\n",
    "import shap\n",
    "import json\n",
    "import joblib\n",
    "\n",
    "sns.set(style='whitegrid')"
   ]
  },
  {
   "cell_type": "markdown",
   "metadata": {},
   "source": [
    "### Read the parquet file located at `./week_1/data/processed/feature_engineering_dataset.parquet`"
   ]
  },
  {
   "cell_type": "code",
   "execution_count": 5,
   "metadata": {},
   "outputs": [
    {
     "name": "stdout",
     "output_type": "stream",
     "text": [
      "<class 'pandas.core.frame.DataFrame'>\n",
      "Index: 5286530 entries, 0 to 3668009\n",
      "Columns: 190 entries, Id to churn_18_months\n",
      "dtypes: bool(1), category(2), datetime64[ns](2), float16(112), float32(49), int16(5), int32(3), int8(15), object(1)\n",
      "memory usage: 2.4+ GB\n"
     ]
    }
   ],
   "source": [
    "df = pd.read_parquet('./week_1/data/processed/feature_engineering_dataset_v2.parquet')\n",
    "non_features_list = ['customer_id','name','date_of_birth','address','touchpoints','csat_scores','Usage','churn','next_date','days_diff', 'job']\n",
    "df = df.drop(non_features_list, axis=1)\n",
    "df.info()           "
   ]
  },
  {
   "cell_type": "markdown",
   "metadata": {},
   "source": [
    "### Train, Validation, Test Split"
   ]
  },
  {
   "cell_type": "code",
   "execution_count": 6,
   "metadata": {},
   "outputs": [
    {
     "name": "stdout",
     "output_type": "stream",
     "text": [
      "Train Shape:  (306649, 184)\n",
      "Validation shape:  (283510, 184)\n",
      "Calibration shape:  (70878, 184)\n"
     ]
    }
   ],
   "source": [
    "# target - Inactivity 365 days \n",
    "#train_max_date = '2022-01-01'\n",
    "#validation_max_date = '2023-01-01'\n",
    "#test_start_date = '2024-01-01'\n",
    "#target = 'churn_365'\n",
    "\n",
    "# target - no activity after 2022-06-01\n",
    "#train_max_date = '2019-06-01'\n",
    "#validation_max_date = '2022-06-01'\n",
    "#test_start_date = '2024-01-01'\n",
    "#target = 'churn_18_months'\n",
    "\n",
    "# target - Inactivity >= 420 days target\n",
    "train_max_date = '2021-10-01'\n",
    "validation_max_date = '2022-10-01'\n",
    "test_start_date = '2024-01-01'\n",
    "target = 'churn_420'\n",
    "\n",
    "# Loading features from features_list.json\n",
    "with open('./week_1/data/processed/features_list.json', 'r') as f:\n",
    "    features = json.load(f)\n",
    "\n",
    "train_df = df.loc[df['date'] < train_max_date, features + [target]]\n",
    "validation_df = df.loc[(df['date'] >= train_max_date) & (df['date'] < validation_max_date), features + [target]]\n",
    "\n",
    "# Get Train and Validation Subsamples to speed up the process\n",
    "_, train_df = train_test_split(train_df, test_size=0.10, random_state=42, stratify=train_df[target])\n",
    "\n",
    "# Spliting the original validatio into two shuffled datasets one for validation only and the other for calibration\n",
    "validation_df, calibration_df = train_test_split(validation_df, test_size=0.20, random_state=42, stratify=validation_df[target])\n",
    "\n",
    "print('Train Shape: ', train_df.shape)\n",
    "print('Validation shape: ', validation_df.shape)\n",
    "print('Calibration shape: ', calibration_df.shape)"
   ]
  },
  {
   "cell_type": "code",
   "execution_count": 7,
   "metadata": {},
   "outputs": [],
   "source": [
    "# Save training data\n",
    "train_df.to_parquet('./week_1/data/processed/train_df_v2.parquet')\n",
    "\n",
    "# Save validation data\n",
    "validation_df.to_parquet('./week_1/data/processed/validation_df_v2.parquet')\n",
    "\n",
    "# Save calibration data\n",
    "calibration_df.to_parquet('./week_1/data/processed/calibration_df_v2.parquet')\n",
    "\n",
    "\n",
    "# Saving a smaller version (40% of the original datasets) for faster hyperparameter optimization\n",
    "_, train_df = train_test_split(train_df, test_size=0.60, random_state=42, stratify=train_df[target])\n",
    "_, validation_df = train_test_split(validation_df, test_size=0.60, random_state=42, stratify=validation_df[target])\n",
    "_, calibration_df = train_test_split(calibration_df, test_size=0.60, random_state=42, stratify=calibration_df[target])\n",
    "\n",
    "train_df.to_parquet('./week_1/data/processed/train_df_small.parquet')\n",
    "validation_df.to_parquet('./week_1/data/processed/validation_df_small.parquet')\n",
    "calibration_df.to_parquet('./week_1/data/processed/calibration_df_small.parquet')"
   ]
  }
 ],
 "metadata": {
  "kernelspec": {
   "display_name": ".venv",
   "language": "python",
   "name": "python3"
  },
  "language_info": {
   "codemirror_mode": {
    "name": "ipython",
    "version": 3
   },
   "file_extension": ".py",
   "mimetype": "text/x-python",
   "name": "python",
   "nbconvert_exporter": "python",
   "pygments_lexer": "ipython3",
   "version": "3.11.7"
  }
 },
 "nbformat": 4,
 "nbformat_minor": 2
}
