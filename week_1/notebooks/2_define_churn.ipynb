{
 "cells": [
  {
   "cell_type": "markdown",
   "id": "c36cd039",
   "metadata": {},
   "source": [
    "# Introduction\n",
    "* In this Jupyter Notebook, we will load the train and test data and merge them. \n",
    "* After that, we will define churn and analyze customer behavior over time.\n",
    "\n",
    "### Churn Definition\n",
    "* Churn is defined as the inactivity between transactions of customers greater than 420 days (~14 months). \n",
    "* These data points are classified as churn. \n",
    "* The following image illustrates the churn definition:\n",
    "\n",
    "![Churn Definition](../diagrams/churn_def.png)\n",
    "\n",
    "\n",
    "\n",
    "* In the image, the x-axis represents the timeline of customer transactions\n",
    "* and the y-axis represents different customers. \n",
    "* A red mark indicates a churn event, which occurs when the inactivity period between two transactions exceeds 420 days."
   ]
  },
  {
   "cell_type": "code",
   "execution_count": 1,
   "id": "import-libraries",
   "metadata": {},
   "outputs": [],
   "source": [
    "import os\n",
    "os.chdir('../../')"
   ]
  },
  {
   "cell_type": "code",
   "execution_count": 2,
   "id": "c27b4d13",
   "metadata": {},
   "outputs": [
    {
     "name": "stderr",
     "output_type": "stream",
     "text": [
      "/Users/marcus.silva/Code/modern-ml/.venv/lib/python3.11/site-packages/tqdm/auto.py:21: TqdmWarning: IProgress not found. Please update jupyter and ipywidgets. See https://ipywidgets.readthedocs.io/en/stable/user_install.html\n",
      "  from .autonotebook import tqdm as notebook_tqdm\n"
     ]
    }
   ],
   "source": [
    "import pandas as pd\n",
    "import glob\n",
    "import seaborn as sns\n",
    "import matplotlib.pyplot as plt\n",
    "from global_code.util import reduce_mem_usage\n",
    "import gc"
   ]
  },
  {
   "cell_type": "markdown",
   "id": "read-train-data",
   "metadata": {},
   "source": [
    "## Read all the parquet files matching the pattern `./week_1/data/raw/train_*.parquet`"
   ]
  },
  {
   "cell_type": "code",
   "execution_count": 4,
   "id": "load-train-data",
   "metadata": {},
   "outputs": [
    {
     "name": "stdout",
     "output_type": "stream",
     "text": [
      "<class 'pandas.core.frame.DataFrame'>\n",
      "Index: 3926058 entries, 978127 to 462039\n",
      "Data columns (total 25 columns):\n",
      " #   Column                    Dtype         \n",
      "---  ------                    -----         \n",
      " 0   customer_id               int64         \n",
      " 1   interest_rate             float64       \n",
      " 2   name                      object        \n",
      " 3   country                   object        \n",
      " 4   date_of_birth             object        \n",
      " 5   address                   object        \n",
      " 6   date                      datetime64[ns]\n",
      " 7   atm_transfer_in           int64         \n",
      " 8   atm_transfer_out          int64         \n",
      " 9   bank_transfer_in          int64         \n",
      " 10  bank_transfer_out         int64         \n",
      " 11  crypto_in                 int64         \n",
      " 12  crypto_out                int64         \n",
      " 13  bank_transfer_in_volume   float64       \n",
      " 14  bank_transfer_out_volume  float64       \n",
      " 15  crypto_in_volume          float64       \n",
      " 16  crypto_out_volume         float64       \n",
      " 17  complaints                int64         \n",
      " 18  touchpoints               object        \n",
      " 19  csat_scores               object        \n",
      " 20  tenure                    int64         \n",
      " 21  from_competitor           bool          \n",
      " 22  job                       object        \n",
      " 23  churn_due_to_fraud        bool          \n",
      " 24  model_predicted_fraud     bool          \n",
      "dtypes: bool(3), datetime64[ns](1), float64(5), int64(9), object(7)\n",
      "memory usage: 700.2+ MB\n",
      "Max date: 2023-12-31 00:00:00\n",
      "Min date: 2008-01-17 00:00:00\n"
     ]
    }
   ],
   "source": [
    "train_files = glob.glob('./week_1/data/raw/train_*.parquet')\n",
    "train_df = pd.concat([pd.read_parquet(file) for file in train_files], ignore_index=True)\n",
    "\n",
    "# Set Id as the index and drop the Id column\n",
    "train_df.set_index('Id', inplace=True)\n",
    "\n",
    "train_df.info()\n",
    "\n",
    "max_train_date = train_df['date'].max()\n",
    "min_train_date = train_df['date'].min()\n",
    "\n",
    "print(f\"Max date: {max_train_date}\")\n",
    "print(f\"Min date: {min_train_date}\")"
   ]
  },
  {
   "cell_type": "markdown",
   "id": "823c4be3",
   "metadata": {},
   "source": [
    "## Merging Dataframes"
   ]
  },
  {
   "cell_type": "code",
   "execution_count": 5,
   "id": "d8507eec",
   "metadata": {},
   "outputs": [
    {
     "name": "stdout",
     "output_type": "stream",
     "text": [
      "Max test date: 2026-12-31 00:00:00\n",
      "Min test date: 2024-01-01 00:00:00\n",
      "Max full dataset date: 2026-12-31 00:00:00\n",
      "Min full dataset date: 2008-01-17 00:00:00\n"
     ]
    },
    {
     "data": {
      "text/plain": [
       "0"
      ]
     },
     "execution_count": 5,
     "metadata": {},
     "output_type": "execute_result"
    }
   ],
   "source": [
    "\n",
    "# Read the test.parquet file\n",
    "test_df = pd.read_parquet('./week_1/data/raw/test.parquet')\n",
    "\n",
    "# Set Id as the index and drop the Id column\n",
    "test_df.set_index('Id', inplace=True)\n",
    "\n",
    "max_test_date = test_df['date'].max()\n",
    "min_test_date = test_df['date'].min()\n",
    "print(f\"Max test date: {max_test_date}\")\n",
    "print(f\"Min test date: {min_test_date}\")\n",
    "\n",
    "# Merge train_df and test_df into a new dataframe called df \n",
    "df = pd.concat([train_df, test_df])\n",
    "print(f\"Max full dataset date: {df['date'].max()}\")\n",
    "print(f\"Min full dataset date: {df['date'].min()}\")\n",
    "\n",
    "# Clean memory usage by setting train_df and test_df to null\n",
    "train_df = None\n",
    "test_df = None\n",
    "\n",
    "# Call garbage collector\n",
    "gc.collect()"
   ]
  },
  {
   "cell_type": "code",
   "execution_count": 6,
   "id": "798ee0a8",
   "metadata": {},
   "outputs": [
    {
     "name": "stdout",
     "output_type": "stream",
     "text": [
      "Memory usage of dataframe is 983.12 MB\n",
      "Casting column customer_id to <class 'numpy.int32'>\n",
      "Casting column interest_rate to <class 'numpy.float16'>\n",
      "Casting column atm_transfer_in to <class 'numpy.int16'>\n",
      "Casting column atm_transfer_out to <class 'numpy.int16'>\n",
      "Casting column bank_transfer_in to <class 'numpy.int32'>\n",
      "Casting column bank_transfer_out to <class 'numpy.int32'>\n",
      "Casting column crypto_in to <class 'numpy.int16'>\n",
      "Casting column crypto_out to <class 'numpy.int8'>\n",
      "Casting column bank_transfer_in_volume to <class 'numpy.float32'>\n",
      "Casting column bank_transfer_out_volume to <class 'numpy.float32'>\n",
      "Casting column crypto_in_volume to <class 'numpy.float16'>\n",
      "Casting column crypto_out_volume to <class 'numpy.float16'>\n",
      "Casting column complaints to <class 'numpy.int8'>\n",
      "Casting column tenure to <class 'numpy.int16'>\n",
      "Memory usage after optimization is: 599.95 MB\n",
      "Decreased by 39.0%\n"
     ]
    },
    {
     "data": {
      "text/html": [
       "<div>\n",
       "<style scoped>\n",
       "    .dataframe tbody tr th:only-of-type {\n",
       "        vertical-align: middle;\n",
       "    }\n",
       "\n",
       "    .dataframe tbody tr th {\n",
       "        vertical-align: top;\n",
       "    }\n",
       "\n",
       "    .dataframe thead th {\n",
       "        text-align: right;\n",
       "    }\n",
       "</style>\n",
       "<table border=\"1\" class=\"dataframe\">\n",
       "  <thead>\n",
       "    <tr style=\"text-align: right;\">\n",
       "      <th></th>\n",
       "      <th>customer_id</th>\n",
       "      <th>interest_rate</th>\n",
       "      <th>name</th>\n",
       "      <th>country</th>\n",
       "      <th>date_of_birth</th>\n",
       "      <th>address</th>\n",
       "      <th>date</th>\n",
       "      <th>atm_transfer_in</th>\n",
       "      <th>atm_transfer_out</th>\n",
       "      <th>bank_transfer_in</th>\n",
       "      <th>...</th>\n",
       "      <th>crypto_out_volume</th>\n",
       "      <th>complaints</th>\n",
       "      <th>touchpoints</th>\n",
       "      <th>csat_scores</th>\n",
       "      <th>tenure</th>\n",
       "      <th>from_competitor</th>\n",
       "      <th>job</th>\n",
       "      <th>churn_due_to_fraud</th>\n",
       "      <th>model_predicted_fraud</th>\n",
       "      <th>Usage</th>\n",
       "    </tr>\n",
       "    <tr>\n",
       "      <th>Id</th>\n",
       "      <th></th>\n",
       "      <th></th>\n",
       "      <th></th>\n",
       "      <th></th>\n",
       "      <th></th>\n",
       "      <th></th>\n",
       "      <th></th>\n",
       "      <th></th>\n",
       "      <th></th>\n",
       "      <th></th>\n",
       "      <th></th>\n",
       "      <th></th>\n",
       "      <th></th>\n",
       "      <th></th>\n",
       "      <th></th>\n",
       "      <th></th>\n",
       "      <th></th>\n",
       "      <th></th>\n",
       "      <th></th>\n",
       "      <th></th>\n",
       "      <th></th>\n",
       "    </tr>\n",
       "  </thead>\n",
       "  <tbody>\n",
       "    <tr>\n",
       "      <th>978127</th>\n",
       "      <td>1</td>\n",
       "      <td>0.0</td>\n",
       "      <td>Yolanda Parker</td>\n",
       "      <td>Lithuania</td>\n",
       "      <td>1954-07-10</td>\n",
       "      <td>1929 Erin Lights Suite 709\\nLake Michaelburgh,...</td>\n",
       "      <td>2014-07-25</td>\n",
       "      <td>0</td>\n",
       "      <td>0</td>\n",
       "      <td>531</td>\n",
       "      <td>...</td>\n",
       "      <td>26.328125</td>\n",
       "      <td>0</td>\n",
       "      <td>[]</td>\n",
       "      <td>{'appointment': None, 'email': None, 'phone': ...</td>\n",
       "      <td>2381</td>\n",
       "      <td>False</td>\n",
       "      <td>Amenity horticulturist</td>\n",
       "      <td>False</td>\n",
       "      <td>False</td>\n",
       "      <td>NaN</td>\n",
       "    </tr>\n",
       "    <tr>\n",
       "      <th>978762</th>\n",
       "      <td>1</td>\n",
       "      <td>0.0</td>\n",
       "      <td>Yolanda Parker</td>\n",
       "      <td>Lithuania</td>\n",
       "      <td>1954-07-10</td>\n",
       "      <td>1929 Erin Lights Suite 709\\nLake Michaelburgh,...</td>\n",
       "      <td>2014-07-26</td>\n",
       "      <td>0</td>\n",
       "      <td>0</td>\n",
       "      <td>487</td>\n",
       "      <td>...</td>\n",
       "      <td>24.031250</td>\n",
       "      <td>0</td>\n",
       "      <td>[]</td>\n",
       "      <td>{'appointment': None, 'email': None, 'phone': ...</td>\n",
       "      <td>2382</td>\n",
       "      <td>False</td>\n",
       "      <td>Amenity horticulturist</td>\n",
       "      <td>False</td>\n",
       "      <td>False</td>\n",
       "      <td>NaN</td>\n",
       "    </tr>\n",
       "    <tr>\n",
       "      <th>979413</th>\n",
       "      <td>1</td>\n",
       "      <td>0.0</td>\n",
       "      <td>Yolanda Parker</td>\n",
       "      <td>Lithuania</td>\n",
       "      <td>1954-07-10</td>\n",
       "      <td>1929 Erin Lights Suite 709\\nLake Michaelburgh,...</td>\n",
       "      <td>2014-07-27</td>\n",
       "      <td>0</td>\n",
       "      <td>0</td>\n",
       "      <td>438</td>\n",
       "      <td>...</td>\n",
       "      <td>24.468750</td>\n",
       "      <td>0</td>\n",
       "      <td>[]</td>\n",
       "      <td>{'appointment': None, 'email': None, 'phone': ...</td>\n",
       "      <td>2383</td>\n",
       "      <td>False</td>\n",
       "      <td>Amenity horticulturist</td>\n",
       "      <td>False</td>\n",
       "      <td>False</td>\n",
       "      <td>NaN</td>\n",
       "    </tr>\n",
       "    <tr>\n",
       "      <th>980060</th>\n",
       "      <td>1</td>\n",
       "      <td>0.0</td>\n",
       "      <td>Yolanda Parker</td>\n",
       "      <td>Lithuania</td>\n",
       "      <td>1954-07-10</td>\n",
       "      <td>1929 Erin Lights Suite 709\\nLake Michaelburgh,...</td>\n",
       "      <td>2014-07-28</td>\n",
       "      <td>0</td>\n",
       "      <td>0</td>\n",
       "      <td>408</td>\n",
       "      <td>...</td>\n",
       "      <td>24.281250</td>\n",
       "      <td>0</td>\n",
       "      <td>[]</td>\n",
       "      <td>{'appointment': None, 'email': None, 'phone': ...</td>\n",
       "      <td>2384</td>\n",
       "      <td>False</td>\n",
       "      <td>Amenity horticulturist</td>\n",
       "      <td>False</td>\n",
       "      <td>False</td>\n",
       "      <td>NaN</td>\n",
       "    </tr>\n",
       "    <tr>\n",
       "      <th>996550</th>\n",
       "      <td>5</td>\n",
       "      <td>0.0</td>\n",
       "      <td>Emily Solis</td>\n",
       "      <td>Netherlands</td>\n",
       "      <td>2006-06-30</td>\n",
       "      <td>664 Brown Rapid\\nBrianburgh, MN 10337 Netherlands</td>\n",
       "      <td>2014-08-22</td>\n",
       "      <td>0</td>\n",
       "      <td>0</td>\n",
       "      <td>2</td>\n",
       "      <td>...</td>\n",
       "      <td>26.687500</td>\n",
       "      <td>0</td>\n",
       "      <td>[]</td>\n",
       "      <td>{'appointment': None, 'email': None, 'phone': ...</td>\n",
       "      <td>2409</td>\n",
       "      <td>False</td>\n",
       "      <td>Occupational hygienist</td>\n",
       "      <td>False</td>\n",
       "      <td>False</td>\n",
       "      <td>NaN</td>\n",
       "    </tr>\n",
       "    <tr>\n",
       "      <th>...</th>\n",
       "      <td>...</td>\n",
       "      <td>...</td>\n",
       "      <td>...</td>\n",
       "      <td>...</td>\n",
       "      <td>...</td>\n",
       "      <td>...</td>\n",
       "      <td>...</td>\n",
       "      <td>...</td>\n",
       "      <td>...</td>\n",
       "      <td>...</td>\n",
       "      <td>...</td>\n",
       "      <td>...</td>\n",
       "      <td>...</td>\n",
       "      <td>...</td>\n",
       "      <td>...</td>\n",
       "      <td>...</td>\n",
       "      <td>...</td>\n",
       "      <td>...</td>\n",
       "      <td>...</td>\n",
       "      <td>...</td>\n",
       "      <td>...</td>\n",
       "    </tr>\n",
       "    <tr>\n",
       "      <th>7547787</th>\n",
       "      <td>47228</td>\n",
       "      <td>0.0</td>\n",
       "      <td>Tammy Sanchez</td>\n",
       "      <td>Germany</td>\n",
       "      <td>1988-10-13</td>\n",
       "      <td>2035 John Forks Suite 685\\nThompsonport, FL 96...</td>\n",
       "      <td>2026-12-31</td>\n",
       "      <td>0</td>\n",
       "      <td>0</td>\n",
       "      <td>2880</td>\n",
       "      <td>...</td>\n",
       "      <td>97.250000</td>\n",
       "      <td>0</td>\n",
       "      <td>[]</td>\n",
       "      <td>{'appointment': None, 'email': None, 'phone': ...</td>\n",
       "      <td>791</td>\n",
       "      <td>False</td>\n",
       "      <td>Education officer, community</td>\n",
       "      <td>False</td>\n",
       "      <td>False</td>\n",
       "      <td>Public</td>\n",
       "    </tr>\n",
       "    <tr>\n",
       "      <th>7547788</th>\n",
       "      <td>26232</td>\n",
       "      <td>2.5</td>\n",
       "      <td>Deborah Booth</td>\n",
       "      <td>Belgium</td>\n",
       "      <td>1961-01-16</td>\n",
       "      <td>837 Sanchez Village Apt. 410\\nLake Rebecca, TX...</td>\n",
       "      <td>2026-12-31</td>\n",
       "      <td>0</td>\n",
       "      <td>0</td>\n",
       "      <td>12</td>\n",
       "      <td>...</td>\n",
       "      <td>29.718750</td>\n",
       "      <td>0</td>\n",
       "      <td>[]</td>\n",
       "      <td>{'appointment': None, 'email': None, 'phone': ...</td>\n",
       "      <td>2329</td>\n",
       "      <td>False</td>\n",
       "      <td>Therapist, sports</td>\n",
       "      <td>False</td>\n",
       "      <td>False</td>\n",
       "      <td>Public</td>\n",
       "    </tr>\n",
       "    <tr>\n",
       "      <th>7547789</th>\n",
       "      <td>39233</td>\n",
       "      <td>2.5</td>\n",
       "      <td>Erin Dudley</td>\n",
       "      <td>Denmark</td>\n",
       "      <td>2000-07-03</td>\n",
       "      <td>627 Reese Heights Apt. 485\\nPort Tamaraview, O...</td>\n",
       "      <td>2026-12-31</td>\n",
       "      <td>0</td>\n",
       "      <td>0</td>\n",
       "      <td>4312</td>\n",
       "      <td>...</td>\n",
       "      <td>94.875000</td>\n",
       "      <td>0</td>\n",
       "      <td>[]</td>\n",
       "      <td>{'appointment': None, 'email': None, 'phone': ...</td>\n",
       "      <td>1550</td>\n",
       "      <td>False</td>\n",
       "      <td>unemployed</td>\n",
       "      <td>False</td>\n",
       "      <td>False</td>\n",
       "      <td>Public</td>\n",
       "    </tr>\n",
       "    <tr>\n",
       "      <th>7547790</th>\n",
       "      <td>87197</td>\n",
       "      <td>2.5</td>\n",
       "      <td>Tracy Santana</td>\n",
       "      <td>Norway</td>\n",
       "      <td>1946-11-11</td>\n",
       "      <td>444 Michael Centers Apt. 014\\nSouth Daniel, PA...</td>\n",
       "      <td>2026-12-31</td>\n",
       "      <td>0</td>\n",
       "      <td>0</td>\n",
       "      <td>3120</td>\n",
       "      <td>...</td>\n",
       "      <td>67.437500</td>\n",
       "      <td>0</td>\n",
       "      <td>[]</td>\n",
       "      <td>{'appointment': None, 'email': None, 'phone': ...</td>\n",
       "      <td>375</td>\n",
       "      <td>False</td>\n",
       "      <td>Civil Service fast streamer</td>\n",
       "      <td>False</td>\n",
       "      <td>False</td>\n",
       "      <td>Public</td>\n",
       "    </tr>\n",
       "    <tr>\n",
       "      <th>7547791</th>\n",
       "      <td>62157</td>\n",
       "      <td>0.0</td>\n",
       "      <td>Mark Roman</td>\n",
       "      <td>USA</td>\n",
       "      <td>1987-10-07</td>\n",
       "      <td>0890 Kelly Ferry Apt. 806\\nKellyfurt, GU 74087</td>\n",
       "      <td>2026-12-31</td>\n",
       "      <td>0</td>\n",
       "      <td>0</td>\n",
       "      <td>8</td>\n",
       "      <td>...</td>\n",
       "      <td>99.062500</td>\n",
       "      <td>0</td>\n",
       "      <td>[]</td>\n",
       "      <td>{'appointment': None, 'email': None, 'phone': ...</td>\n",
       "      <td>769</td>\n",
       "      <td>False</td>\n",
       "      <td>Scientist, research (medical)</td>\n",
       "      <td>False</td>\n",
       "      <td>False</td>\n",
       "      <td>Public</td>\n",
       "    </tr>\n",
       "  </tbody>\n",
       "</table>\n",
       "<p>5286530 rows × 26 columns</p>\n",
       "</div>"
      ],
      "text/plain": [
       "         customer_id  interest_rate            name      country  \\\n",
       "Id                                                                 \n",
       "978127             1            0.0  Yolanda Parker    Lithuania   \n",
       "978762             1            0.0  Yolanda Parker    Lithuania   \n",
       "979413             1            0.0  Yolanda Parker    Lithuania   \n",
       "980060             1            0.0  Yolanda Parker    Lithuania   \n",
       "996550             5            0.0     Emily Solis  Netherlands   \n",
       "...              ...            ...             ...          ...   \n",
       "7547787        47228            0.0   Tammy Sanchez      Germany   \n",
       "7547788        26232            2.5   Deborah Booth      Belgium   \n",
       "7547789        39233            2.5     Erin Dudley      Denmark   \n",
       "7547790        87197            2.5   Tracy Santana       Norway   \n",
       "7547791        62157            0.0      Mark Roman          USA   \n",
       "\n",
       "        date_of_birth                                            address  \\\n",
       "Id                                                                         \n",
       "978127     1954-07-10  1929 Erin Lights Suite 709\\nLake Michaelburgh,...   \n",
       "978762     1954-07-10  1929 Erin Lights Suite 709\\nLake Michaelburgh,...   \n",
       "979413     1954-07-10  1929 Erin Lights Suite 709\\nLake Michaelburgh,...   \n",
       "980060     1954-07-10  1929 Erin Lights Suite 709\\nLake Michaelburgh,...   \n",
       "996550     2006-06-30  664 Brown Rapid\\nBrianburgh, MN 10337 Netherlands   \n",
       "...               ...                                                ...   \n",
       "7547787    1988-10-13  2035 John Forks Suite 685\\nThompsonport, FL 96...   \n",
       "7547788    1961-01-16  837 Sanchez Village Apt. 410\\nLake Rebecca, TX...   \n",
       "7547789    2000-07-03  627 Reese Heights Apt. 485\\nPort Tamaraview, O...   \n",
       "7547790    1946-11-11  444 Michael Centers Apt. 014\\nSouth Daniel, PA...   \n",
       "7547791    1987-10-07     0890 Kelly Ferry Apt. 806\\nKellyfurt, GU 74087   \n",
       "\n",
       "              date  atm_transfer_in  atm_transfer_out  bank_transfer_in  ...  \\\n",
       "Id                                                                       ...   \n",
       "978127  2014-07-25                0                 0               531  ...   \n",
       "978762  2014-07-26                0                 0               487  ...   \n",
       "979413  2014-07-27                0                 0               438  ...   \n",
       "980060  2014-07-28                0                 0               408  ...   \n",
       "996550  2014-08-22                0                 0                 2  ...   \n",
       "...            ...              ...               ...               ...  ...   \n",
       "7547787 2026-12-31                0                 0              2880  ...   \n",
       "7547788 2026-12-31                0                 0                12  ...   \n",
       "7547789 2026-12-31                0                 0              4312  ...   \n",
       "7547790 2026-12-31                0                 0              3120  ...   \n",
       "7547791 2026-12-31                0                 0                 8  ...   \n",
       "\n",
       "         crypto_out_volume  complaints  touchpoints  \\\n",
       "Id                                                    \n",
       "978127           26.328125           0           []   \n",
       "978762           24.031250           0           []   \n",
       "979413           24.468750           0           []   \n",
       "980060           24.281250           0           []   \n",
       "996550           26.687500           0           []   \n",
       "...                    ...         ...          ...   \n",
       "7547787          97.250000           0           []   \n",
       "7547788          29.718750           0           []   \n",
       "7547789          94.875000           0           []   \n",
       "7547790          67.437500           0           []   \n",
       "7547791          99.062500           0           []   \n",
       "\n",
       "                                               csat_scores  tenure  \\\n",
       "Id                                                                   \n",
       "978127   {'appointment': None, 'email': None, 'phone': ...    2381   \n",
       "978762   {'appointment': None, 'email': None, 'phone': ...    2382   \n",
       "979413   {'appointment': None, 'email': None, 'phone': ...    2383   \n",
       "980060   {'appointment': None, 'email': None, 'phone': ...    2384   \n",
       "996550   {'appointment': None, 'email': None, 'phone': ...    2409   \n",
       "...                                                    ...     ...   \n",
       "7547787  {'appointment': None, 'email': None, 'phone': ...     791   \n",
       "7547788  {'appointment': None, 'email': None, 'phone': ...    2329   \n",
       "7547789  {'appointment': None, 'email': None, 'phone': ...    1550   \n",
       "7547790  {'appointment': None, 'email': None, 'phone': ...     375   \n",
       "7547791  {'appointment': None, 'email': None, 'phone': ...     769   \n",
       "\n",
       "         from_competitor                            job  churn_due_to_fraud  \\\n",
       "Id                                                                            \n",
       "978127             False         Amenity horticulturist               False   \n",
       "978762             False         Amenity horticulturist               False   \n",
       "979413             False         Amenity horticulturist               False   \n",
       "980060             False         Amenity horticulturist               False   \n",
       "996550             False         Occupational hygienist               False   \n",
       "...                  ...                            ...                 ...   \n",
       "7547787            False   Education officer, community               False   \n",
       "7547788            False              Therapist, sports               False   \n",
       "7547789            False                     unemployed               False   \n",
       "7547790            False    Civil Service fast streamer               False   \n",
       "7547791            False  Scientist, research (medical)               False   \n",
       "\n",
       "        model_predicted_fraud   Usage  \n",
       "Id                                     \n",
       "978127                  False     NaN  \n",
       "978762                  False     NaN  \n",
       "979413                  False     NaN  \n",
       "980060                  False     NaN  \n",
       "996550                  False     NaN  \n",
       "...                       ...     ...  \n",
       "7547787                 False  Public  \n",
       "7547788                 False  Public  \n",
       "7547789                 False  Public  \n",
       "7547790                 False  Public  \n",
       "7547791                 False  Public  \n",
       "\n",
       "[5286530 rows x 26 columns]"
      ]
     },
     "execution_count": 6,
     "metadata": {},
     "output_type": "execute_result"
    }
   ],
   "source": [
    "reduce_mem_usage(df)"
   ]
  },
  {
   "cell_type": "code",
   "execution_count": 7,
   "id": "488b346a",
   "metadata": {},
   "outputs": [
    {
     "name": "stdout",
     "output_type": "stream",
     "text": [
      "Memory usage: 3867.93 MB\n"
     ]
    }
   ],
   "source": [
    "print(f\"Memory usage: {df.memory_usage(deep=True).sum() / 1024 ** 2:.2f} MB\")"
   ]
  },
  {
   "cell_type": "markdown",
   "id": "define-churn-variable",
   "metadata": {},
   "source": [
    "## Define Churn Variable"
   ]
  },
  {
   "cell_type": "code",
   "execution_count": 33,
   "id": "define-churn",
   "metadata": {},
   "outputs": [
    {
     "name": "stderr",
     "output_type": "stream",
     "text": [
      "/var/folders/02/kk2lyyc1509_l0ltgwm_19y40000gq/T/ipykernel_70178/3753949439.py:8: FutureWarning: A value is trying to be set on a copy of a DataFrame or Series through chained assignment using an inplace method.\n",
      "The behavior will change in pandas 3.0. This inplace method will never work because the intermediate object on which we are setting values always behaves as a copy.\n",
      "\n",
      "For example, when doing 'df[col].method(value, inplace=True)', try using 'df.method({col: value}, inplace=True)' or df[col] = df[col].method(value) instead, to perform the operation inplace on the original object.\n",
      "\n",
      "\n",
      "  df['next_date'].fillna(df.date.max(), inplace=True)\n"
     ]
    },
    {
     "name": "stdout",
     "output_type": "stream",
     "text": [
      "Churn ratio full dataset\n",
      "churn\n",
      "0    5219279\n",
      "1      67251\n",
      "Name: count, dtype: int64\n",
      "churn\n",
      "0    0.987279\n",
      "1    0.012721\n",
      "Name: proportion, dtype: float64\n",
      "\n",
      "Churn ratio train dataset\n",
      "churn\n",
      "0    3397389\n",
      "1      23481\n",
      "Name: count, dtype: int64\n",
      "churn\n",
      "0    0.993136\n",
      "1    0.006864\n",
      "Name: proportion, dtype: float64\n"
     ]
    }
   ],
   "source": [
    "#max_dataset_date = '2022-10-01'\n",
    "#train_df = df[df.date < '2022-10-01']\n",
    "#max_dataset_date = pd.Da'2022-10-0'\n",
    "max_inactivity = 420\n",
    "df['churn'] = 0\n",
    "df = df.sort_values(['customer_id', 'date'], ascending=True)\n",
    "df['next_date'] = df.groupby('customer_id')['date'].shift(-1)\n",
    "df['next_date'].fillna(df.date.max(), inplace=True)\n",
    "df['days_diff'] = (df['next_date'] - df['date']).dt.days\n",
    "df.loc[df['days_diff'] >= max_inactivity, 'churn'] = 1\n",
    "\n",
    "train_df = df.loc[df['date'] < '2022-10-01', :]\n",
    "\n",
    "# churn on the full dataset period\n",
    "print('Churn ratio full dataset')\n",
    "print(df.churn.value_counts())\n",
    "print(df.churn.value_counts(normalize=True))\n",
    "print()\n",
    "print('Churn ratio train dataset')\n",
    "print(train_df.churn.value_counts())\n",
    "print(train_df.churn.value_counts(normalize=True))"
   ]
  },
  {
   "cell_type": "code",
   "execution_count": 34,
   "id": "f6eb107c",
   "metadata": {},
   "outputs": [
    {
     "data": {
      "text/plain": [
       "0"
      ]
     },
     "execution_count": 34,
     "metadata": {},
     "output_type": "execute_result"
    }
   ],
   "source": [
    "gp = train_df.groupby('customer_id')['date'].count().reset_index()\n",
    "customers_with_one_transaction = list(gp[gp['date'] == 1]['customer_id'])\n",
    "\n",
    "# Checking the next date missing for customers with only one transaction\n",
    "train_df.loc[train_df['customer_id'].isin(customers_with_one_transaction), 'next_date'].isna().sum()"
   ]
  },
  {
   "cell_type": "code",
   "execution_count": 35,
   "id": "da5c6049",
   "metadata": {},
   "outputs": [
    {
     "data": {
      "text/html": [
       "<div>\n",
       "<style scoped>\n",
       "    .dataframe tbody tr th:only-of-type {\n",
       "        vertical-align: middle;\n",
       "    }\n",
       "\n",
       "    .dataframe tbody tr th {\n",
       "        vertical-align: top;\n",
       "    }\n",
       "\n",
       "    .dataframe thead th {\n",
       "        text-align: right;\n",
       "    }\n",
       "</style>\n",
       "<table border=\"1\" class=\"dataframe\">\n",
       "  <thead>\n",
       "    <tr style=\"text-align: right;\">\n",
       "      <th></th>\n",
       "      <th>date</th>\n",
       "      <th>next_date</th>\n",
       "      <th>days_diff</th>\n",
       "    </tr>\n",
       "    <tr>\n",
       "      <th>Id</th>\n",
       "      <th></th>\n",
       "      <th></th>\n",
       "      <th></th>\n",
       "    </tr>\n",
       "  </thead>\n",
       "  <tbody>\n",
       "    <tr>\n",
       "      <th>32054</th>\n",
       "      <td>2008-08-19</td>\n",
       "      <td>2025-01-30</td>\n",
       "      <td>6008</td>\n",
       "    </tr>\n",
       "    <tr>\n",
       "      <th>107816</th>\n",
       "      <td>2009-08-25</td>\n",
       "      <td>2024-08-03</td>\n",
       "      <td>5457</td>\n",
       "    </tr>\n",
       "    <tr>\n",
       "      <th>170305</th>\n",
       "      <td>2010-03-29</td>\n",
       "      <td>2024-02-20</td>\n",
       "      <td>5076</td>\n",
       "    </tr>\n",
       "    <tr>\n",
       "      <th>197550</th>\n",
       "      <td>2010-06-09</td>\n",
       "      <td>2024-01-20</td>\n",
       "      <td>4973</td>\n",
       "    </tr>\n",
       "    <tr>\n",
       "      <th>202051</th>\n",
       "      <td>2010-06-20</td>\n",
       "      <td>2026-08-29</td>\n",
       "      <td>5914</td>\n",
       "    </tr>\n",
       "    <tr>\n",
       "      <th>...</th>\n",
       "      <td>...</td>\n",
       "      <td>...</td>\n",
       "      <td>...</td>\n",
       "    </tr>\n",
       "    <tr>\n",
       "      <th>3762496</th>\n",
       "      <td>2022-09-30</td>\n",
       "      <td>2022-10-02</td>\n",
       "      <td>2</td>\n",
       "    </tr>\n",
       "    <tr>\n",
       "      <th>3762497</th>\n",
       "      <td>2022-09-30</td>\n",
       "      <td>2022-10-01</td>\n",
       "      <td>1</td>\n",
       "    </tr>\n",
       "    <tr>\n",
       "      <th>3762498</th>\n",
       "      <td>2022-09-30</td>\n",
       "      <td>2022-10-01</td>\n",
       "      <td>1</td>\n",
       "    </tr>\n",
       "    <tr>\n",
       "      <th>3762499</th>\n",
       "      <td>2022-09-30</td>\n",
       "      <td>2023-10-04</td>\n",
       "      <td>369</td>\n",
       "    </tr>\n",
       "    <tr>\n",
       "      <th>3762500</th>\n",
       "      <td>2022-09-30</td>\n",
       "      <td>2023-10-03</td>\n",
       "      <td>368</td>\n",
       "    </tr>\n",
       "  </tbody>\n",
       "</table>\n",
       "<p>2001 rows × 3 columns</p>\n",
       "</div>"
      ],
      "text/plain": [
       "              date  next_date  days_diff\n",
       "Id                                      \n",
       "32054   2008-08-19 2025-01-30       6008\n",
       "107816  2009-08-25 2024-08-03       5457\n",
       "170305  2010-03-29 2024-02-20       5076\n",
       "197550  2010-06-09 2024-01-20       4973\n",
       "202051  2010-06-20 2026-08-29       5914\n",
       "...            ...        ...        ...\n",
       "3762496 2022-09-30 2022-10-02          2\n",
       "3762497 2022-09-30 2022-10-01          1\n",
       "3762498 2022-09-30 2022-10-01          1\n",
       "3762499 2022-09-30 2023-10-04        369\n",
       "3762500 2022-09-30 2023-10-03        368\n",
       "\n",
       "[2001 rows x 3 columns]"
      ]
     },
     "execution_count": 35,
     "metadata": {},
     "output_type": "execute_result"
    }
   ],
   "source": [
    "train_df.loc[train_df['customer_id'].isin(customers_with_one_transaction), ['date', 'next_date', 'days_diff']]"
   ]
  },
  {
   "cell_type": "code",
   "execution_count": 26,
   "id": "6d1fbc4c",
   "metadata": {},
   "outputs": [
    {
     "data": {
      "text/plain": [
       "<seaborn.axisgrid.FacetGrid at 0x39546ca50>"
      ]
     },
     "execution_count": 26,
     "metadata": {},
     "output_type": "execute_result"
    },
    {
     "data": {
      "image/png": "[encoded data removed]",
      "text/plain": [
       "<Figure size 500x500 with 1 Axes>"
      ]
     },
     "metadata": {},
     "output_type": "display_data"
    }
   ],
   "source": [
    "sns.displot(train_df.loc[train_df.days_diff < 700,'days_diff'], kde=False)"
   ]
  },
  {
   "cell_type": "code",
   "execution_count": 33,
   "id": "d1341e7d",
   "metadata": {},
   "outputs": [
    {
     "data": {
      "text/plain": [
       "<seaborn.axisgrid.FacetGrid at 0x310266150>"
      ]
     },
     "execution_count": 33,
     "metadata": {},
     "output_type": "execute_result"
    },
    {
     "data": {
      "image/png": "[encoded data removed]",
      "text/plain": [
       "<Figure size 500x500 with 1 Axes>"
      ]
     },
     "metadata": {},
     "output_type": "display_data"
    }
   ],
   "source": [
    "sns.displot(train_df.loc[(train_df.days_diff > 10),'days_diff'], kde=False)"
   ]
  },
  {
   "cell_type": "code",
   "execution_count": 34,
   "id": "6eb65c3e",
   "metadata": {},
   "outputs": [
    {
     "data": {
      "text/plain": [
       "<Axes: xlabel='days_diff', ylabel='Proportion'>"
      ]
     },
     "execution_count": 34,
     "metadata": {},
     "output_type": "execute_result"
    },
    {
     "data": {
      "image/png": "[encoded data removed]",
      "text/plain": [
       "<Figure size 640x480 with 1 Axes>"
      ]
     },
     "metadata": {},
     "output_type": "display_data"
    }
   ],
   "source": [
    "sns.ecdfplot(train_df['days_diff'])"
   ]
  },
  {
   "cell_type": "code",
   "execution_count": 35,
   "id": "c0e44fec",
   "metadata": {},
   "outputs": [
    {
     "data": {
      "text/plain": [
       "<seaborn.axisgrid.FacetGrid at 0x36a17fd90>"
      ]
     },
     "execution_count": 35,
     "metadata": {},
     "output_type": "execute_result"
    },
    {
     "data": {
      "image/png": "[encoded data removed]",
      "text/plain": [
       "<Figure size 500x500 with 1 Axes>"
      ]
     },
     "metadata": {},
     "output_type": "display_data"
    }
   ],
   "source": [
    "customers_with_big_inactivity = train_df.loc[train_df.days_diff >= 420, 'customer_id'].unique()\n",
    "sns.displot(train_df.loc[train_df.customer_id.isin(customers_with_big_inactivity), 'days_diff']) "
   ]
  },
  {
   "cell_type": "markdown",
   "id": "ee38f58e",
   "metadata": {},
   "source": [
    "## Data Split\n",
    "* In this section, we define the split strategy for our dataset. \n",
    "* The dataset is divided into three periods: train, validation, and test. \n",
    "* The train period includes data up to october 2021. \n",
    "* The validation period spans from october 1, 2021, to october 1, 2022. \n",
    "* The test period starts from January 1, 2024, onwards.\n",
    "\n",
    "The following image illustrates the dataset split strategy:\n",
    "\n",
    "![Dataset Split Strategy](../diagrams/churn_def.png)\n",
    "\n"
   ]
  },
  {
   "cell_type": "code",
   "execution_count": 36,
   "id": "2b657a64",
   "metadata": {},
   "outputs": [
    {
     "data": {
      "image/png": "[encoded data removed]",
      "text/plain": [
       "<Figure size 1200x600 with 1 Axes>"
      ]
     },
     "metadata": {},
     "output_type": "display_data"
    }
   ],
   "source": [
    "# Count unique active monthly customers\n",
    "df['date_trunc_month'] = df['date'].dt.to_period('M').dt.to_timestamp()\n",
    "monthly_active_customers = df.groupby(df['date_trunc_month'])['customer_id'].nunique().reset_index()\n",
    "\n",
    "plt.figure(figsize=(12, 6))\n",
    "sns.lineplot(data=monthly_active_customers, x='date_trunc_month', y='customer_id', marker='o')\n",
    "\n",
    "plt.axvline(pd.Timestamp('2021-10-01'), color='gray', linestyle='--', label='Train Period')\n",
    "plt.axvline(pd.Timestamp('2022-10-01'), color='skyblue', linestyle='--', label='Validation Period')\n",
    "plt.axvline(pd.Timestamp('2024-01-01'), color='red', linestyle='--', label='Test Period')\n",
    "plt.legend()\n",
    "\n",
    "# Beautify the plot\n",
    "plt.title('Monthly Active Customers', fontsize=12)\n",
    "plt.xlabel('Month', fontsize=8)\n",
    "plt.ylabel('Number of Active Customers', fontsize=12)\n",
    "plt.xticks(rotation=45)\n",
    "plt.grid(True)\n",
    "plt.tight_layout()\n",
    "\n",
    "plt.show()"
   ]
  },
  {
   "cell_type": "code",
   "execution_count": null,
   "id": "e32e7230",
   "metadata": {},
   "outputs": [],
   "source": [
    "df.to_parquet('./week_1/data/processed/full_dataset.parquet')"
   ]
  }
 ],
 "metadata": {
  "kernelspec": {
   "display_name": ".venv",
   "language": "python",
   "name": "python3"
  },
  "language_info": {
   "codemirror_mode": {
    "name": "ipython",
    "version": 3
   },
   "file_extension": ".py",
   "mimetype": "text/x-python",
   "name": "python",
   "nbconvert_exporter": "python",
   "pygments_lexer": "ipython3",
   "version": "3.11.7"
  }
 },
 "nbformat": 4,
 "nbformat_minor": 5
}
